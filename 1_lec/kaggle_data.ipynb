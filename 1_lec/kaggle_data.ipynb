{
 "cells": [
  {
   "cell_type": "code",
   "execution_count": 1,
   "metadata": {},
   "outputs": [],
   "source": [
    "import random\n",
    "from sklearn.model_selection import train_test_split\n",
    "import numpy as np\n",
    "import scipy.ndimage as ndi\n",
    "import matplotlib.pylab as plt\n",
    "%matplotlib inline"
   ]
  },
  {
   "cell_type": "code",
   "execution_count": 2,
   "metadata": {},
   "outputs": [
    {
     "name": "stdout",
     "output_type": "stream",
     "text": [
      "(70000, 784)\n"
     ]
    }
   ],
   "source": [
    "from sklearn.datasets import fetch_mldata\n",
    "mnist = fetch_mldata('MNIST original', data_home='./')\n",
    "X = mnist['data']\n",
    "Y = mnist['target']\n",
    "print(X.shape)"
   ]
  },
  {
   "cell_type": "code",
   "execution_count": 3,
   "metadata": {},
   "outputs": [],
   "source": [
    "for i in range(X.shape[0]):\n",
    "    img = X[i]\n",
    "    img = img.reshape((28,28))\n",
    "    img = ndi.rotate(img, random.randint(-7, 7), reshape=False)\n",
    "    X[i] = img.reshape((28*28,))"
   ]
  },
  {
   "cell_type": "code",
   "execution_count": 4,
   "metadata": {},
   "outputs": [],
   "source": [
    "X_train, X_test, Y_train, Y_test = train_test_split(X, Y, test_size=0.15, stratify=Y, shuffle=True)"
   ]
  },
  {
   "cell_type": "code",
   "execution_count": 8,
   "metadata": {},
   "outputs": [
    {
     "name": "stdout",
     "output_type": "stream",
     "text": [
      "(10500,)\n"
     ]
    }
   ],
   "source": []
  },
  {
   "cell_type": "code",
   "execution_count": 6,
   "metadata": {
    "collapsed": true
   },
   "outputs": [],
   "source": [
    "import pickle\n",
    "mnist_train = {'data': X_train, 'target': Y_train}\n",
    "mnist_test = {'data': X_test}\n",
    "\n",
    "with open('./mnist_train.pkl', 'wb') as f:\n",
    "    pickle.dump(mnist_train, f)\n",
    "    \n",
    "with open('./mnist_test.pkl', 'wb') as f:\n",
    "    pickle.dump(mnist_test, f)\n",
    "    \n",
    "with open('./kaggle_test.csv', 'wt') as f:\n",
    "    f.write('id,0,1,2,3,4,5,6,7,8,9\\n')\n",
    "    for i in range(X_test.shape[0]):\n",
    "        v = np.zeros((10,))\n",
    "        v[int(Y_test[i])] = 1.\n",
    "        f.write(','.join([str(i)] + list(map(str, v.tolist()))) + '\\n')"
   ]
  },
  {
   "cell_type": "code",
   "execution_count": null,
   "metadata": {
    "collapsed": true
   },
   "outputs": [],
   "source": []
  }
 ],
 "metadata": {
  "kernelspec": {
   "display_name": "Python 3",
   "language": "python",
   "name": "python3"
  },
  "language_info": {
   "codemirror_mode": {
    "name": "ipython",
    "version": 3
   },
   "file_extension": ".py",
   "mimetype": "text/x-python",
   "name": "python",
   "nbconvert_exporter": "python",
   "pygments_lexer": "ipython3",
   "version": "3.6.4"
  }
 },
 "nbformat": 4,
 "nbformat_minor": 2
}
