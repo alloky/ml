{
 "cells": [
  {
   "cell_type": "markdown",
   "metadata": {},
   "source": [
    "\n",
    "# Вспомним алгоритм обратного распространения\n",
    "\n",
    "<img src=\"./imgs/01.png\" width=500>\n",
    "\n",
    "Нам нужно вычислить градиент: $$\\large \\frac{\\partial f}{\\partial x}; \\frac{\\partial f}{\\partial w}; \\frac{\\partial f}{\\partial b} $$\n",
    "\n",
    "Далее обновляем веса по алгоритму градиентного спуска:\n",
    "$$\n",
    "\\large\n",
    "w' = w - \\lambda \\frac{\\partial f}{\\partial w}\n",
    "$$"
   ]
  },
  {
   "cell_type": "markdown",
   "metadata": {},
   "source": [
    "### В реальном мире мы имеем\n",
    "1.  $\\large X $ - пространство входных значений размерностью $ |M|$\n",
    "2.  $\\large Y $ - пространство целевых предсказаний размерностью $ |M|$\n",
    "3.  $\\large L(x,y,\\theta) $ - функция ошибки, которая зависит от параметров $\\theta$ модели\n",
    "4.  $\\large F(\\theta) $ - функция преобразования $\\large X \\to Y $ \n",
    "\n",
    "Градиентный спуск, для обновления весов будет выглядеть так:\n",
    "$$\n",
    "\\large \\theta_{t} = \\theta_{t-1} - \\lambda \\frac{\\partial L}{\\partial \\theta} \n",
    "$$"
   ]
  },
  {
   "cell_type": "markdown",
   "metadata": {},
   "source": [
    "# SGD (Stochastic Gradient Descent)"
   ]
  },
  {
   "cell_type": "markdown",
   "metadata": {},
   "source": [
    "### Классический SGD:\n",
    "$$\n",
    "\\large\n",
    "\\theta_t = \\theta_{t-1} - \\lambda \\frac{1}{M} \\sum_{i=1}^{M}\\frac{\\partial L_i}{\\partial \\theta}\n",
    "$$\n",
    "\n",
    "Сложность - $\\large O(M) $. Количество примеров в обучающем датасете может быть >1M или вообще неограничено\n",
    "\n",
    "### Mini-batch SGD, позволяет использовать ресурсы GPU эффективней\n",
    "$$\n",
    "\\large\n",
    "\\theta_t = \\theta_{t-1} - \\lambda \\frac{1}{B} \\sum_{i=1}^{B}\\frac{\\partial L_i}{\\partial \\theta}\n",
    "$$\n"
   ]
  },
  {
   "cell_type": "markdown",
   "metadata": {},
   "source": [
    "# Продвинутые методы оптимизации\n",
    "## Проблемы\n",
    "- SGD - медленно сходится\n",
    "- SGD - может застрять в локальном минимуме\n",
    "- SGD - не решает проблему редких признаков  "
   ]
  },
  {
   "cell_type": "markdown",
   "metadata": {},
   "source": [
    "## SGD + Momentum\n",
    "### Ускоряет схождение"
   ]
  },
  {
   "cell_type": "markdown",
   "metadata": {},
   "source": [
    "$$\n",
    "\\Large\n",
    "\\begin{align}\n",
    "m_t &= \\alpha m_{t-1} - \\lambda \\nabla_{\\theta} \\left( \\sum_{i=1}^{M} L_i \\right) \\\\\n",
    "\\theta_t &= \\theta_{t-1} + m_t\n",
    "\\end{align}\n",
    "$$\n",
    "<img src=\"./imgs/4.gif\" width=500>\n",
    "\n"
   ]
  },
  {
   "cell_type": "markdown",
   "metadata": {},
   "source": [
    "## Adagrad - (Adaptive gradient)\n",
    "### Решаем проблему редких признаков\n",
    "$$\n",
    "\\Large\n",
    "\\begin{align}\n",
    "g_t &= \\nabla_{\\theta} \\left( \\sum_{i=1}^{M} L_i \\right) - градиент \\\\\n",
    "G_t &= G_t + g_{t}^2 - аккумулятор\\ градиента\\\\\n",
    "\\theta_{t} &= \\theta_{t-1} - \\frac{\\lambda}{\\sqrt{G+\\epsilon}} g_t\n",
    "\\end{align}\n",
    "$$"
   ]
  },
  {
   "cell_type": "markdown",
   "metadata": {},
   "source": [
    "## RMSProp (Root Mean Square Propagation)\n",
    "### Исправляет недостаток adagrad - паралич\n",
    "$$\n",
    "\\Large\n",
    "\\begin{align}\n",
    "E[g^2]_t &- скользящее\\ среднее \\\\\n",
    "E[g^2]_t &= \\beta * E[g^2]_{t-1} +  (1-\\beta)* g_{t}^2  \\\\\n",
    "\\theta &= \\theta - \\lambda \\frac{1}{\\sqrt{E[g^2]_t + \\epsilon}} g_t\n",
    "\\end{align}\n",
    "$$\n",
    "### Долго накапливает начальные значения "
   ]
  },
  {
   "cell_type": "markdown",
   "metadata": {},
   "source": [
    "## Adam (Adaptive Moment Estimation) \n",
    "\n",
    "Adam = SGD + Momentum + RMSProp\n",
    "\n",
    "$$\n",
    "\\large\n",
    "\\begin{align}\n",
    "m_t &= \\alpha \\ m_{t-1} + (1 - \\alpha)\\ g - момент \\\\ \n",
    "v_t &= \\beta \\ v_{t-1} +  (1-\\beta)\\ g_{t}^2  - скользящее\\ среднее \\\\\n",
    "\\\\\n",
    "& исправляем \\ недостаток \\ RMSProp \\\\\n",
    "\\hat{m_t} &= \\frac{m_t}{1 - \\alpha^2} \\\\\n",
    "\\hat{v_t} &= \\frac{v_t}{1 - \\beta^2} \\\\\n",
    "\\theta_t &= \\theta_{t-1} -  \\frac{\\lambda}{\\sqrt{\\hat{v_t} + \\epsilon}}\\hat{m_t}\n",
    "\\end{align}\n",
    "$$\n",
    "\n",
    "\n",
    "\n",
    "<img src=\"./imgs/6.gif\" width=500>"
   ]
  },
  {
   "cell_type": "markdown",
   "metadata": {},
   "source": [
    "# Многослойность требует нелинейной активации.\n",
    "## Почему?\n",
    "- Рассмотрим однослойный персептрон\n",
    "$\\large y = \\sum_i{x_i^L w_i^L} $\n",
    "- добавим к нему еще слой, тогда для i-того нейрона  \n",
    "$\\large x_i^L = \\sum_j{x_j^{L-1}w_j^{L-1}} $\n",
    "$\\large \\to $ \n",
    "$\\large y = \\sum_i{\\left(\\sum_j{x_j^{L-1}w_j^{L-1}}\\right)_i^L w_i^L}$\n",
    "- Видно, что получившаяся система будет является линейной системой\n",
    "- Нужно вводить нелинейность - нелинейную функцию активации\n",
    "- Условие - функция должна быть дифференцируема \n"
   ]
  },
  {
   "cell_type": "markdown",
   "metadata": {},
   "source": [
    "# Функции активации"
   ]
  },
  {
   "cell_type": "markdown",
   "metadata": {},
   "source": [
    "\n",
    "## 1. Сигмоид \n",
    "$$\\large \\sigma (x) = \\frac{1}{1+e^{-x}} $$\n",
    "<img src=\"./imgs/29.png\" >\n",
    "### Производная\n",
    "$$\\large \\frac{d\\sigma (x)}{d(x)} = \\sigma (x)\\cdot (1-\\sigma(x)) < 1 $$\n",
    "\n",
    "<img src=\"./imgs/30.png\" >\n",
    "\n",
    "```python\n",
    "# pytorch class\n",
    "class torch.nn.Sigmoid\n",
    "```\n",
    "\n",
    "## Проблемы сигмоида\n",
    "### 1. Рассмотрим сеть, состоящую из слоев с одним нейроном\n",
    "$$\\large y = \\sigma_3{(\\sigma_2{(\\sigma_1{(xw_1)}w_2)}w_3)} $$\n",
    "- Чему будет равна производная?\n",
    "$$\\large \\frac{d y}{d x} = \\frac{\\partial{y}}{\\partial{\\sigma_3}}\\frac{\\partial{\\sigma_3}}{\\partial{\\sigma_2}}\\frac{\\partial{\\sigma_2}}{\\partial{\\sigma_1}}\\frac{\\partial{\\sigma_1}}{\\partial{x}} << 1 $$\n",
    "\n",
    "- Видно,что при малых значениях производных на градиент на первых слоях становится незначительным (может затухать экспоненциально) и становится меньше точности float. Сеть перестанет обучаться.\n",
    "\n",
    "### 2. Что будет если у нас только положительный вход слоя $\\large l$ ?\n",
    "$$ \\large \n",
    "f^l(x) = \\sigma{\\left(\\sum_i{h^l_i w^l_i + b^l}\\right)} \\\\\n",
    "\\large h_i^l = \\sigma{\\left(\\sum_i{x^{l-1}_i w^{l-1}_i + b^{l-1}}\\right)} > 0\n",
    "$$\n",
    "- Нейрон для $\\large f^l(x) $ войдет в нелинейную область насыщения функции и градиент по нему будет равен нулю, из-за проблемы точности.\n"
   ]
  },
  {
   "cell_type": "markdown",
   "metadata": {},
   "source": [
    "## Центрированная функция \n",
    "$$ \\large tanh(x) = \\frac{e^x - e^{-x}}{e^x + e^{-x}}$$\n",
    "<img src='./imgs/tanh.png'>\n",
    "- имеет ту-же проблему с затуханием градиента\n",
    "\n",
    "```python\n",
    "# pytorch class\n",
    "class torch.nn.Tanh\n",
    "```"
   ]
  },
  {
   "cell_type": "markdown",
   "metadata": {},
   "source": [
    "## Функция активации, которая:\n",
    "1. Нелинейна\n",
    "2. Не затухает градиент"
   ]
  },
  {
   "cell_type": "markdown",
   "metadata": {},
   "source": [
    " ## 2. ReLU (Rectifier linear unit)\n",
    "\n",
    "$$\\large f(x)= max(0, x) $$\n",
    "<img src=\"./imgs/31.png\" >\n",
    "\n",
    "## производная \n",
    "$$\\large \n",
    "\\frac{df}{dx} = 0 \\ if\\  x <= 0 \\\\\n",
    "\\large \\frac{df}{dx} = 1 \\ if\\  x > 0\n",
    "$$\n",
    "\n",
    "```python\n",
    "#python class\n",
    "class torch.nn.ReLU(inplace=False)\n",
    "# inplace - нужно ли сохранять выход элемента в графе\n",
    "```\n",
    "\n",
    "Пример графика обучения из статьи [ImageNet Classification with Deep Convolutional Neural Networks](http://www.cs.toronto.edu/~fritz/absps/imagenet.pdf)\n",
    "<img src='./imgs/relu_train.png'>\n",
    "Процесс тренировки конволюционной сети \n",
    "- Пунктир - сеть с активацией тангес\n",
    "- Сплошная линия - активация ReLU\n"
   ]
  },
  {
   "cell_type": "markdown",
   "metadata": {},
   "source": [
    "## Проблема ReLU \n",
    "- Мертвые нейроны если  $\\large \\sum_i{x_i w_i + b} < 0 $\n",
    "\n",
    "### Как решить?\n",
    "$$\n",
    "\\large ReLU(y) = max(0, y) \\\\\n",
    "\\large Leaky ReLU = max(\\alpha y, y), \\alpha < 1. - можно \\ использовать \\ коэффициент \\ обучения\n",
    "$$\n",
    "<img src='./imgs/prelu.png'>\n",
    "\n",
    "### Нужно подбирать параметр $\\large \\alpha $ \n",
    "- можно использовать экспоненту => ELU\n",
    "- $\\large y =  x \\ if \\ x > 0 \\ else\\ \\alpha (e^x - 1) $\n",
    "- с экспонентой считать тяжелей\n",
    "<img src='./imgs/elu.png'>\n",
    "\n",
    "## Самый правильный способ\n",
    "- Обобщает лучше чем ReLU или ELU\n",
    "- Линейны режим\n",
    "- Нет насыщения\n",
    "- Нет затухания\n",
    "$$\\large max(w_1^Tx+b_1, w_2^Tx+b_2) $$\n",
    "\n",
    "### Приводит к удвоению параметров сети :("
   ]
  },
  {
   "cell_type": "markdown",
   "metadata": {},
   "source": [
    "<hr>"
   ]
  },
  {
   "cell_type": "markdown",
   "metadata": {},
   "source": [
    "# Переобучение\n",
    "<img src='./imgs/overfitting.png'>\n",
    "- Возникает когда количество парметров сети перекрывает вариативность данных, как результат сеть запоминает примеры в обучающей выборке\n",
    "- Обобщающая способность модели падает, что можно контролировать на валидационном множестве\n",
    "- Как правило, переобучение, сопровождается ростом весов сети\n",
    "### Регуляризация\n",
    "1. Добавляем дополнительный член в функцию ошибки, который ограничмвает рост весов ($ L^2 $ регуляризация)\n",
    "$$ \\large\n",
    "    L_{reg} \\left(X, \\vec{y}, \\vec{w}\\right) =\\left\\| \\vec{y} - X \\vec{w} \\right\\|_2^2  + \\frac{\\lambda}{2} \\left\\| \\vec{w} \\right\\|_2^2\n",
    "$$\n",
    "2. Делаем аугментацию, рассмотрим далее.\n",
    "3. Уменьшаем количество параметров модели. Маленькая модель - хуже качество"
   ]
  },
  {
   "cell_type": "markdown",
   "metadata": {},
   "source": [
    "# Ансамбль моделей (bagging)"
   ]
  },
  {
   "cell_type": "markdown",
   "metadata": {
    "collapsed": true
   },
   "source": [
    "Допустим, мы построили набор из $\\large k $ регрессионных моделей. Предположим, что каждая модель делает ошибку $\\large \\epsilon_i$, c дисперсией $\\large \\mathop{\\mathbb{E}}\\left[\\epsilon_i^2\\right] = v$ и ковариацией $\\large \\mathop{\\mathbb{E}}\\left[\\epsilon_i \\epsilon_j\\right] = c$. Тогда ошибка всего ансабля моделей - $\\large \\frac{1}{k}\\sum_i{\\epsilon_i} $. Тогда ожидание среднеквадратичной ошибки будет равно:\n",
    "$$\n",
    "\\large \\mathop{\\mathbb{E}}\\left[\\left(\\frac{1}{k}\\sum_i{\\epsilon_i}\\right)^2\\right] = \\frac{1}{k^2} \\mathop{\\mathbb{E}}\\left[\\sum_i{\\left(\\epsilon_i^2 + \\sum_{{j}\\neq{i}}{\\epsilon_i}{\\epsilon_j}\\right)}\\right] = \\frac{1}{k}v+\\frac{k-1}{k}c\n",
    "$$\n",
    "\n",
    "- Если у нас модели скорелированы $\\large c=v $, то среднеквадратичная ошибка всего ансамбля уменьшается до v\n",
    "- Если у нас модели не скорелированы $\\large c=0 $, то среднеквадратичная ошибка уменьшается до $\\large \\frac{1}{k}v$"
   ]
  },
  {
   "cell_type": "markdown",
   "metadata": {},
   "source": [
    "# Dropout\n",
    "### Идея - отключаем часть нейронов слоя сети по распределению бернули с вероятностью $\\large p $, см. схему\n",
    "- Сразу возникает ассоциация с ансамблем моделей, в котором каждая модель представлена подграфом сети\n",
    "### Основные отличия от ансамбля:\n",
    "1. Веса моделей общие\n",
    "2. Каждая модель обучается не до полной сходимости\n",
    "3. Количество моделей растет экспоненциально в процессе обучения.\n",
    "\n",
    "<img src=\"./imgs/33.png\" >\n",
    "\n",
    "\n",
    "### Описание модели\n",
    "Обычная сеть прямого распространения со слоем $\\large l+1 $ и нейроном $\\large i $\n",
    "$$\\large 𝑧_𝑖^{(𝑙+1)} =\\mathbf{𝑤}_𝑖^{(𝑙+1)}\\mathbf{𝑦}^𝑙+𝑏_𝑖^{(𝑙+1)} $$ \n",
    "$$\\large y_i^{(l+1)} = f(z_i^{(𝑙+1)}) $$ \n",
    "\n",
    "Для сети с dropout прямой проход при обучении будет выглядеть так:\n",
    "\n",
    "$$\n",
    "\\large\n",
    "\\begin{aligned}\n",
    "p - вероятность\\ семплирования \\\\\n",
    "r_j^{(l)} ~ Bernoulli(p) \\\\\n",
    "\\tilde{y} = \\mathbf{r}^l \\mathbf{y}^l \\\\\n",
    "𝑧_𝑖^{(𝑙+1)} =\\mathbf{𝑤}_𝑖^{(𝑙+1)}\\mathbf{\\tilde{𝑦}}^𝑙+𝑏_𝑖^{(𝑙+1)} \\\\\n",
    "y_i^{(l+1)} = f(z_i^{(𝑙+1)})\n",
    "\\end{aligned}\n",
    "$$\n",
    "\n",
    "Для предсказания проблема, - мы не знаем $\\large k$ (количество моделей)\n",
    "$$\n",
    "\\large\n",
    "\\begin{aligned}\n",
    "используем \\ вероятность\\ семплирования - p \\\\\n",
    "\\tilde{w} = p \\mathbf{w}_i^{l+1} \\\\\n",
    "𝑧_𝑖^{(𝑙+1)} =\\mathbf{\\tilde{𝑤}}_𝑖^{(𝑙+1)}\\mathbf{𝑦}^𝑙+𝑏_𝑖^{(𝑙+1)} \\\\\n",
    "y_i^{(l+1)} = f(z_i^{(𝑙+1)})\n",
    "\\end{aligned}\n",
    "$$\n",
    "<hr>\n",
    "<img src=\"./imgs/35.png\" >\n",
    "\n",
    "[Dropout: A Simple Way to Prevent Neural Networks from Overfitting](http://jmlr.org/papers/volume15/srivastava14a.old/srivastava14a.pdf)\n",
    "\n",
    "```python\n",
    "class torch.nn.Dropout(\n",
    "class torch.nn.Dropout2d(\n",
    "    p=0.5,         # % фичей, которые нужно занулить\n",
    "    inplace=False  # делать ли оптимизацию\n",
    "```\n",
    "<hr>"
   ]
  },
  {
   "cell_type": "markdown",
   "metadata": {},
   "source": [
    "# Batch Normalization\n",
    "Когда мы строим модель мы предполагаем, что у нас есть фиксированная цель $\\large Y$, к которой мы подгоняем нашу модель, для получения отображения $\\large f: X \\to Y$.\n",
    "\n",
    "1. Цель одного нейрона сети - выучить отображения своего входа на вход следующего слоя. \n",
    "2. Мы делаем обновление веса (градиентным спуском), исходя из предположения, что все остальные веса константны, но это не так.\n",
    "3. Отсюда целевая функция одного нейрона динамически меняется в процессе обучения, потому что меняется статистическое распределение его входа в процессе обучения. Появляется **ковариационный сдвиг**\n",
    "<img src='./imgs/batch_norm_sample.png'>\n",
    "4. В результате веса могут иметь сильно отличающие абсолютные значения, что приводит к замедлению схождения сети.\n",
    "\n",
    "<img src=\"./imgs/36.png\" >\n",
    "\n",
    "- Для решения этой проблемы нужно, что бы вход нейрона изменялся в заданном диапазоне.\n",
    "- В прошлой лекции мы решали эту проблемму нормализацией наших данных\n",
    "<img src='./imgs/normalization_data.png'>\n",
    "- В нашем случае, данные нейрона - это выход предыдущего слоя.\n",
    "- Чтобы убрать ковариационный сдвиг нужно нормализовать выход предыдущего слоя.\n",
    "- Мы не знаем все распределение, но знаем распределение внутри одного батча => попробуем сделать нормализацию по батчу\n",
    "\n",
    "<img src=\"./imgs/37.png\" width=400>\n",
    "\n",
    "- Как выглядит формула финальной батч нормализации в слое\n",
    "$$\n",
    "\\mathbf{y} = \\frac{\\mathbf{x} - mean[x]}{ \\sqrt{Var[x] + \\epsilon}} * gamma + beta\n",
    "$$\n",
    "\n",
    "- График обучения\n",
    "<img src=\"./imgs/38.png\" width=400>\n",
    "\n",
    "### Batch Normalization \n",
    "1. Увеличивает количество параметров. \n",
    "2. Добавляет новый гиперпараметр - размер батча\n",
    "\n",
    "[Batch Normalization Ioffe, Szegedy 2015](https://arxiv.org/pdf/1502.03167.pdf)\n",
    "\n",
    "\n",
    "```python\n",
    "# Для сетей прямого распространения\n",
    "class torch.nn.BatchNorm1d(\n",
    "    num_features,   # Размерность входного слоя, которое следует ожидать на входе\n",
    "    eps=1e-05,      # Epsilon из знаменателя\n",
    "    momentum=0.1,   # Момент, с которым идет накопление среднего и дисперсии\n",
    "    affine=True)    # учить gamma и beta\n",
    "    \n",
    "# Для сверточных сетей    \n",
    "class torch.nn.BatchNorm2d(\n",
    "    num_features,   # Число фильтров, которое следует ожидать на входе\n",
    "    eps=1e-05,      # Epsilon из знаменателя\n",
    "    momentum=0.1,   # Момент, с которым идет накопление среднего и дисперсии\n",
    "    affine=True)    # учить gamma и beta\n",
    "```\n",
    "\n"
   ]
  },
  {
   "cell_type": "markdown",
   "metadata": {},
   "source": [
    "# Откуда пошли сверточные сети"
   ]
  },
  {
   "cell_type": "markdown",
   "metadata": {},
   "source": [
    "# 1958 - Hubel and Wiesel\n",
    "\n",
    "<img src=\"./imgs/7.jpg\" width=500>\n",
    "\n",
    "<img src=\"./imgs/9.png\" width=500>\n",
    "\n",
    "- **Simple cells**: дают ответ на ориентацию света \n",
    "- **Complex cells**: ответ ориентацию света и движение \n",
    "- **Hypercomplex cells**: ответ на движение с конечной точкой\n",
    "<img src=\"./imgs/cat_exp.png\" width=500>"
   ]
  },
  {
   "cell_type": "markdown",
   "metadata": {},
   "source": [
    "## 1980 - Neocognitron (Fukushima)\n",
    "\n",
    "<img src=\"./imgs/10.jpg\" width=400>\n",
    "<img src=\"./imgs/11.gif\" width=400>\n"
   ]
  },
  {
   "cell_type": "markdown",
   "metadata": {},
   "source": [
    "# 1998 LeNet-5 (LeCun et.al.)\n",
    "\n",
    "<img src=\"./imgs/12.png\" width=700>\n"
   ]
  },
  {
   "cell_type": "markdown",
   "metadata": {},
   "source": [
    "# 2012 AlexNet\n",
    "\n",
    "<img src=\"./imgs/14.png\">\n",
    "**ImageNet**\n",
    "- 1000 классов\n",
    "- 1.2М обучение, 100К тест\n",
    "\n",
    "**AlexNet**:\n",
    "<img src=\"./imgs/13.png\">\n",
    "\n",
    "**AlexNet + ImageNet**:\n",
    "<img src=\"./imgs/15.png\">\n"
   ]
  },
  {
   "cell_type": "markdown",
   "metadata": {},
   "source": [
    "# Взрывной рост GPU\n",
    "<img src=\"./imgs/16.jpg\">\n"
   ]
  },
  {
   "cell_type": "markdown",
   "metadata": {},
   "source": [
    "# Сверточные сети\n",
    "Переключимся на презентацию"
   ]
  },
  {
   "cell_type": "markdown",
   "metadata": {},
   "source": [
    "# Сверточный слой"
   ]
  },
  {
   "cell_type": "markdown",
   "metadata": {},
   "source": [
    "<img src=\"./imgs/18.jpg\">\n",
    "\n",
    "## Упражнение на свертку\n",
    "<img src='./imgs/conv_example.png'> \n",
    "<img src=\"./imgs/19.png\">\n",
    "\n"
   ]
  },
  {
   "cell_type": "markdown",
   "metadata": {},
   "source": [
    "### Свернем кота\n",
    "### Грузим картинку котэ, "
   ]
  },
  {
   "cell_type": "code",
   "execution_count": 3,
   "metadata": {},
   "outputs": [
    {
     "data": {
      "text/plain": [
       "<matplotlib.image.AxesImage at 0x20867fb3828>"
      ]
     },
     "execution_count": 3,
     "metadata": {},
     "output_type": "execute_result"
    },
    {
     "data": {
      "image/png": "[encoded data removed]",
      "text/plain": [
       "<matplotlib.figure.Figure at 0x208673d24e0>"
      ]
     },
     "metadata": {},
     "output_type": "display_data"
    }
   ],
   "source": [
    "import torch\n",
    "import torchvision as tv\n",
    "import matplotlib.pyplot as plt\n",
    "%matplotlib inline\n",
    "\n",
    "from PIL import Image\n",
    "cat_convolve= Image.open('./imgs/cat_convolve.jpg')\n",
    "plt.imshow(cat_convolve)"
   ]
  },
  {
   "cell_type": "markdown",
   "metadata": {},
   "source": [
    "### Превращаем кота в тензор"
   ]
  },
  {
   "cell_type": "code",
   "execution_count": 4,
   "metadata": {},
   "outputs": [
    {
     "name": "stdout",
     "output_type": "stream",
     "text": [
      "torch.Size([3, 372, 560])\n"
     ]
    }
   ],
   "source": [
    "cat_tensor = tv.transforms.ToTensor()(cat_convolve)\n",
    "print (cat_tensor.size())"
   ]
  },
  {
   "cell_type": "markdown",
   "metadata": {},
   "source": [
    "### Создаем фильтр ядра и заполняем его -1 & 8"
   ]
  },
  {
   "cell_type": "code",
   "execution_count": 5,
   "metadata": {},
   "outputs": [
    {
     "name": "stdout",
     "output_type": "stream",
     "text": [
      "torch.Size([3, 3, 3])\n"
     ]
    }
   ],
   "source": [
    "filter_kernel = torch.FloatTensor(3,3,3).fill_(-1)\n",
    "filter_kernel[:,1,1] = 8\n",
    "print(filter_kernel.size())"
   ]
  },
  {
   "cell_type": "markdown",
   "metadata": {},
   "source": [
    "## Моя собственная свертка"
   ]
  },
  {
   "cell_type": "code",
   "execution_count": 10,
   "metadata": {
    "collapsed": true
   },
   "outputs": [],
   "source": [
    "import math\n",
    "from my_conv2d import my_conv2d\n",
    "# можно использовать torch.nn.functional, для теста, но нужно написать свою имплементацию\n",
    "# my_conv2d - принимает тензор в формате BxCxHxW т.е. 4d тензор\n",
    "# B - размер батча в нашем случае 1\n",
    "# тогда нужно дописать код, и добавить в картинку одну размерность\n",
    "#  функции \n",
    "#  - squeeze() - убирает размерность\n",
    "#  - unsqueeze() - добавляет размерность\n",
    "# from torch.nn.functional import conv2d as my_conv2d\n"
   ]
  },
  {
   "cell_type": "markdown",
   "metadata": {},
   "source": [
    "### Делаем свертку картинки ядром"
   ]
  },
  {
   "cell_type": "code",
   "execution_count": 11,
   "metadata": {},
   "outputs": [
    {
     "name": "stdout",
     "output_type": "stream",
     "text": [
      "torch.Size([370, 558])\n"
     ]
    },
    {
     "data": {
      "text/plain": [
       "<matplotlib.image.AxesImage at 0x208683b8da0>"
      ]
     },
     "execution_count": 11,
     "metadata": {},
     "output_type": "execute_result"
    },
    {
     "data": {
      "image/png": "[encoded data removed]",
      "text/plain": [
       "<matplotlib.figure.Figure at 0x208682d4dd8>"
      ]
     },
     "metadata": {},
     "output_type": "display_data"
    }
   ],
   "source": [
    "o_image = my_conv2d(cat_tensor, filter_kernel)\n",
    "o_image[o_image >= 0.5] = 1  # бустим границы\n",
    "o_image[o_image < 0.5] = 0\n",
    "print(o_image.size())\n",
    "plt.imshow(o_image.numpy(), cmap='gray')"
   ]
  },
  {
   "cell_type": "markdown",
   "metadata": {},
   "source": [
    "### Что будет с картинкой, если мы возьмем ядро  $ \\begin{bmatrix}\n",
    "    1 & 1 \\\\\n",
    "    1 & 1\n",
    "\\end{bmatrix}$ и пройдем картинку конволюцией с шагом(stride)=2?\n"
   ]
  },
  {
   "cell_type": "code",
   "execution_count": 24,
   "metadata": {},
   "outputs": [
    {
     "name": "stdout",
     "output_type": "stream",
     "text": [
      "torch.Size([186, 280])\n"
     ]
    },
    {
     "data": {
      "text/plain": [
       "<matplotlib.image.AxesImage at 0x25a4118f6d8>"
      ]
     },
     "execution_count": 24,
     "metadata": {},
     "output_type": "execute_result"
    },
    {
     "data": {
      "image/png": "[encoded data removed]",
      "text/plain": [
       "<matplotlib.figure.Figure at 0x25a4112f0f0>"
      ]
     },
     "metadata": {},
     "output_type": "display_data"
    }
   ],
   "source": [
    "filter_kernelx2 = torch.FloatTensor(3,2,2).fill_(1)\n",
    "o_image = my_conv2d(cat_tensor, filter_kernelx2, stride=(2,2))\n",
    "o_image /= 4 # усредняем\n",
    "print(o_image.size())\n",
    "plt.imshow(o_image.numpy(), cmap='gray')"
   ]
  },
  {
   "cell_type": "markdown",
   "metadata": {},
   "source": [
    "# Ядро свертки с гаусовым распределением\n",
    "--размытие--"
   ]
  },
  {
   "cell_type": "code",
   "execution_count": 42,
   "metadata": {},
   "outputs": [
    {
     "data": {
      "text/plain": [
       "<matplotlib.image.AxesImage at 0x25a42bfd588>"
      ]
     },
     "execution_count": 42,
     "metadata": {},
     "output_type": "execute_result"
    },
    {
     "data": {
      "image/png": "[encoded data removed]",
      "text/plain": [
       "<matplotlib.figure.Figure at 0x25a42a7c9b0>"
      ]
     },
     "metadata": {},
     "output_type": "display_data"
    }
   ],
   "source": [
    "import scipy.ndimage as ndi\n",
    "import numpy as np\n",
    "sigma = 10    # параметр распределение\n",
    "patern_size = 101 # максимальный размер ядра свертки\n",
    "kernel_size = 10  # реальный размер свертки\n",
    "x = np.zeros((patern_size, patern_size))\n",
    "x [patern_size//2,patern_size//2]= 1\n",
    "\n",
    "# делаем ядро с гаусовым распределением\n",
    "gause_kernel = ndi.filters.gaussian_filter(x, sigma=sigma)\n",
    "# вырезаем из центра наш кернел\n",
    "gause_kernel = gause_kernel[(patern_size//2-(kernel_size//2)):(patern_size//2+(kernel_size//2))+1, \\\n",
    "                (patern_size//2-(kernel_size//2)):(patern_size//2+(kernel_size//2))+1]\n",
    "# вот он\n",
    "plt.imshow(gause_kernel, interpolation='none', cmap=plt.get_cmap('gray'))"
   ]
  },
  {
   "cell_type": "markdown",
   "metadata": {},
   "source": [
    "### делаем свертку"
   ]
  },
  {
   "cell_type": "code",
   "execution_count": 41,
   "metadata": {},
   "outputs": [
    {
     "name": "stdout",
     "output_type": "stream",
     "text": [
      "torch.Size([362, 550])\n"
     ]
    },
    {
     "data": {
      "text/plain": [
       "<matplotlib.image.AxesImage at 0x25a42b63320>"
      ]
     },
     "execution_count": 41,
     "metadata": {},
     "output_type": "execute_result"
    },
    {
     "data": {
      "image/png": "[encoded data removed]",
      "text/plain": [
       "<matplotlib.figure.Figure at 0x25a42a04748>"
      ]
     },
     "metadata": {},
     "output_type": "display_data"
    }
   ],
   "source": [
    "o_image = my_conv2d(cat_tensor, torch.from_numpy(gause_kernel).float().unsqueeze(0))\n",
    "print(o_image.size())\n",
    "plt.imshow(o_image.numpy(), cmap='gray')"
   ]
  },
  {
   "cell_type": "markdown",
   "metadata": {},
   "source": [
    "### *Свертка это трехмерный(двухмерный) тензор и ее можно обучать как слой нейросети*"
   ]
  },
  {
   "cell_type": "markdown",
   "metadata": {},
   "source": [
    "## Свертка в картинках"
   ]
  },
  {
   "cell_type": "markdown",
   "metadata": {},
   "source": [
    "Картинка = тензор размера (ширина, высота, число каналов)\n",
    "<img src=\"./imgs/20.png\" width=300>\n",
    "\n",
    "1 слой состоит из нескольких филтров (filter bank)\n",
    "<img src=\"./imgs/21.png\" width=400>\n",
    "\n"
   ]
  },
  {
   "cell_type": "markdown",
   "metadata": {},
   "source": [
    "## Страйд и Паддинг"
   ]
  },
  {
   "cell_type": "markdown",
   "metadata": {},
   "source": [
    "### Stride\n",
    "<img src=\"./imgs/22.gif\" width=300>\n",
    "\n",
    "### Padding\n",
    "<img src=\"./imgs/23.gif\" width=400>\n"
   ]
  },
  {
   "cell_type": "markdown",
   "metadata": {},
   "source": [
    "## Небучаемая 2d свертка в PyTorch\n",
    "```python\n",
    "class torch.nn.functional.conv2d(\n",
    "     x, # входное изображение\n",
    "     weight, # ядро фильтра\n",
    "     bias # смещение\n",
    "    stride=1,     # Шаг свертки\n",
    "    padding=0,    # Поля - сколько прибавлять по краям     \n",
    ")\n",
    "```\n",
    "## Обучаемая 2d свертка в PyTorch\n",
    "\n",
    "```python\n",
    "class torch.nn.Conv2d(\n",
    "    in_channels,  # Число каналов на входе\n",
    "    out_channels, # Число каналов на выходе\n",
    "    kernel_size,  # Размер ядра свертки\n",
    "    stride=1,     # Шаг свертки\n",
    "    padding=0,    # Сколько прибавлять по краям\n",
    "    dilation=1, groups=1, bias=True) # Параметры не интересные в нашем курсе\n",
    "```\n",
    "\n",
    "- Вход: $(N, C_{in}, H_{in}, W_{in})$\n",
    "- Выход: $(N, C_{out}, H_{out}, W_{out})$\n",
    "- Есть варинаты 1d (для звука, например) и 3d (для объемных томограмм например)\n"
   ]
  },
  {
   "cell_type": "markdown",
   "metadata": {},
   "source": [
    "# Математика конволюций\n",
    "\n",
    "### Одномерная свертка\n",
    "$$\\large s[t] = \\int{x[a]w[t-a]da} $$\n",
    "\n",
    "### Запись через оператор конволюции\n",
    "$$\\large s[t] = (x * w)[t] $$\n",
    "\n",
    "### В наших задачах мы используем дискретную конволюцию по целым t\n",
    "$$\\large s[t] = \\sum_{a=-\\infty}^{\\infty}{x[a]w[t-a]} $$\n",
    "\n",
    "### Для двухмерной свертки\n",
    "$$\\large S[i,j] = (I * K)[i,j] = \\sum_m{ \\sum_n{ I[m, n]K[i-m, j-n]} } $$\n",
    "- Сверка линейная операция\n",
    "- Свертка коммутативна\n",
    "$$\\large S[i,j] = (I * K)[i,j] = \\sum_m{ \\sum_n{ I[i-m, j-n]K[m, n]} } $$\n",
    "- Свертка ассоциативна\n",
    "$$\\large M * (I * K) = (M * I) * K $$\n"
   ]
  },
  {
   "cell_type": "markdown",
   "metadata": {},
   "source": [
    "### Конволюционная сеть - последовательность сверточных слоев и нелинейных функций активации\n",
    "- Для извлечения более информативных признаков из картинок нужно увеличивать количество карт признаков\n",
    "- Это приводит к увеличению объема занимаемой памяти.\n",
    "- Можно уменьшать размер одной карты признаков, т.е. делать понижающую свертку downsampling, в тоже время увеличивая количество карт признаков"
   ]
  },
  {
   "cell_type": "markdown",
   "metadata": {},
   "source": [
    "# Pooling\n",
    "* Average polling - был в примере с котэ проходим по изображению сверткой  $ \\begin{bmatrix}\n",
    "    1 & 1 \\\\\n",
    "    1 & 1\n",
    "\\end{bmatrix}$ с шагом > 1 и результ усредняем\n",
    "\n",
    "* Max Pooling - выбирается максимальное значение\n",
    "\n",
    "<img src=\"./imgs/26.jpg\" width=400>\n",
    "<img src=\"./imgs/27.jpg\" width=400>\n",
    "\n",
    "\n",
    "```python\n",
    "# class pytorch\n",
    "# pooling среднего\n",
    "class torch.nn.AvgPool1d(\n",
    "# pooling максимального значения\n",
    "class torch.nn.MaxPool2d(kernel_size,  # размер ядра\n",
    "                         stride=None,  # шаг\n",
    "                         padding=0,    # поля\n",
    "```\n",
    "\n",
    "### Average & Max Pooling не диффирецируемы и не имеют обучаемых параметров\n",
    "- Можно использовать вместо свертку с обучаемыми параметрами\n",
    "\n"
   ]
  },
  {
   "cell_type": "markdown",
   "metadata": {},
   "source": [
    "# Augmentation\n",
    "Если данных мало, то велика вероятность, что сеть переобучится. Наряду с такими подходами как dropout, batch normalizatio можно увеличить разнообразие данных путем внесения в них искуственных изменений, моделируя возможное распределение в данных.\n",
    "1. Шум $\\large x = x + Noise(~N(0, 1)) $\n",
    "2. Повороты входного изображения\n",
    "3. Сдвиг изображения\n",
    "4. Crop - обрезание изображения\n",
    "5. Увеличение изображения\n",
    "6. Зеркальное отражение\n",
    "7. Цветовой микс\n",
    "8. Насыщение цветового баланса\n",
    "9. Изменение яркости\n",
    "<img src=\"./imgs/32.png\" >\n",
    "<img src=\"./imgs/41.png\" >\n",
    "\n",
    "```python\n",
    "# определены основные трансформации\n",
    "import torchvision.transforms as transform \n",
    "```"
   ]
  },
  {
   "cell_type": "markdown",
   "metadata": {},
   "source": [
    "# Loss функции\n",
    "\n",
    "```python\n",
    "class torch.nn.MSELoss\n",
    "class torch.nn.CrossEntropyLoss # Комбинация Cross Entropy и Softmax в одном слое\n",
    "class torch.nn.NLLLoss # Оптимизация правдоподобия, на вход ожидает логарифмы вероятностей (выход LogSoftmax)\n",
    "```\n"
   ]
  },
  {
   "cell_type": "markdown",
   "metadata": {},
   "source": [
    "# Put it all together\n",
    "Решаем MNIST конволюциями"
   ]
  },
  {
   "cell_type": "code",
   "execution_count": 1,
   "metadata": {},
   "outputs": [],
   "source": [
    "import numpy as np\n",
    "import matplotlib.pylab as plt\n",
    "%matplotlib inline"
   ]
  },
  {
   "cell_type": "code",
   "execution_count": 2,
   "metadata": {},
   "outputs": [
    {
     "name": "stdout",
     "output_type": "stream",
     "text": [
      "(70000, 1, 28, 28)\n"
     ]
    }
   ],
   "source": [
    "# Загружаем MNIST\n",
    "from sklearn.datasets import fetch_mldata\n",
    "mnist = fetch_mldata('MNIST original', data_home='./')\n",
    "X = mnist['data']\n",
    "# переходим к формату тензоров pytorch\n",
    "X = X.reshape((-1, 1, 28, 28))\n",
    "X = X.astype('float')\n",
    "print(X.shape)"
   ]
  },
  {
   "cell_type": "code",
   "execution_count": 3,
   "metadata": {},
   "outputs": [
    {
     "data": {
      "image/png": "[encoded data removed]",
      "text/plain": [
       "<Figure size 432x288 with 16 Axes>"
      ]
     },
     "metadata": {},
     "output_type": "display_data"
    }
   ],
   "source": [
    "n=4\n",
    "for i in range(n*n):\n",
    "    plt.subplot(n,n,i+1)\n",
    "    I = X[np.random.randint(0, X.shape[0]),0]\n",
    "    plt.imshow(I, cmap='gray')"
   ]
  },
  {
   "cell_type": "code",
   "execution_count": 4,
   "metadata": {},
   "outputs": [
    {
     "name": "stdout",
     "output_type": "stream",
     "text": [
      "original [0 0 0 ... 9 9 9]\n"
     ]
    }
   ],
   "source": [
    "from sklearn.preprocessing import OneHotEncoder\n",
    "\n",
    "Y = mnist['target'].astype('int')\n",
    "print('original', Y)\n"
   ]
  },
  {
   "cell_type": "markdown",
   "metadata": {},
   "source": [
    "## Определение нашей модели\n",
    "Параметры инициализации\n",
    "- Без параметров - конволюции и активации\n",
    "- dropout = True - c dropout\n",
    "- batchnorm ^ True - включаем  batch normalization"
   ]
  },
  {
   "cell_type": "code",
   "execution_count": 5,
   "metadata": {},
   "outputs": [
    {
     "name": "stdout",
     "output_type": "stream",
     "text": [
      "Net(\n",
      "  (net): Sequential(\n",
      "    (0): BatchNorm2d(1, eps=1e-05, momentum=0.1, affine=True)\n",
      "    (conv_1): Conv2d(1, 8, kernel_size=(5, 5), stride=(1, 1))\n",
      "    (relu_1): ReLU()\n",
      "    (pool_1): Conv2d(8, 8, kernel_size=(2, 2), stride=(2, 2))\n",
      "    (conv_2): Conv2d(8, 16, kernel_size=(5, 5), stride=(1, 1))\n",
      "    (relu_2): ReLU()\n",
      "    (pool_2): MaxPool2d(kernel_size=(2, 2), stride=(2, 2), dilation=(1, 1), ceil_mode=False)\n",
      "  )\n",
      "  (fc1): Linear(in_features=256, out_features=10, bias=True)\n",
      ")\n"
     ]
    }
   ],
   "source": [
    "import torch\n",
    "import torch.nn as nn\n",
    "from torch.autograd import Variable\n",
    "import torch.nn.functional as F\n",
    "from torch.autograd import Variable\n",
    "\n",
    "class Net(nn.Module):\n",
    "\n",
    "    # Слои, в которых нет параметров для обучения можно не создавать, а брать из переменной F\n",
    "    def __init__(self, dropout=False, batchnorm=False):\n",
    "        super(Net, self).__init__()\n",
    "        #\n",
    "        # спецальный модуль, который позволяет \n",
    "        # объединять компоненты\n",
    "        self.net = nn.Sequential(nn.BatchNorm2d(1))\n",
    "        \n",
    "        # вход 28x28, выход 24x24 (28-5)/1 + 1 = 24\n",
    "        self.net.add_module('conv_1', nn.Conv2d(1, 8, kernel_size=5, stride=1))\n",
    "        \n",
    "        # добавляем дропаут и бн\n",
    "        if batchnorm: self.net.add_module('bn_1', nn.BatchNorm2d(8))\n",
    "        if dropout: self.net.add_module('do_1', nn.Dropout(0.5))\n",
    "            \n",
    "        self.net.add_module('relu_1', nn.ReLU())\n",
    "        \n",
    "        # конволюция, которая уменьшает размер картинки в два раза \n",
    "        # (24+2-3)/2+1 = 13, либо используем nn.MaxPool2d\n",
    "        self.net.add_module('pool_1', nn.Conv2d(8, 8, kernel_size=2, stride=2)) \n",
    "        \n",
    "        # далее conv->relu->pool\n",
    "        self.net.add_module('conv_2', nn.Conv2d(8, 16, 5)) # in 12x12, out 8x8\n",
    "        \n",
    "        # добавляем дропаут и бн\n",
    "        if batchnorm: self.net.add_module('bn_2', nn.BatchNorm2d(16))\n",
    "        if dropout: self.net.add_module('do_2', nn.Dropout(0.5))\n",
    "            \n",
    "        self.net.add_module('relu_2', nn.ReLU() )\n",
    "        self.net.add_module('pool_2', nn.MaxPool2d(kernel_size=2, stride=2))                  \n",
    "        self.fc1 = nn.Linear(16 * 4 * 4, 10)\n",
    "        # relu\n",
    "\n",
    "    def forward(self, x):\n",
    "        x = self.net(x)\n",
    "        # Вытягиваем многомерный тензор катринки в одну линию\n",
    "        x = x.view(-1, 16 * 4 * 4)\n",
    "        x = self.fc1(x)\n",
    "        x = F.relu(x)\n",
    "        return x\n",
    "   \n",
    "net = Net()\n",
    "print(net)"
   ]
  },
  {
   "cell_type": "markdown",
   "metadata": {},
   "source": [
    "## Функция обучения модели"
   ]
  },
  {
   "cell_type": "code",
   "execution_count": 8,
   "metadata": {},
   "outputs": [],
   "source": [
    "def fit_net(c_epoch, net):\n",
    "    loss_fn = torch.nn.CrossEntropyLoss()\n",
    "\n",
    "    learning_rate = 1e-4\n",
    "    batch_size = 30\n",
    "    # Оптимизатор\n",
    "    optimizer = torch.optim.Adam(net.parameters(), lr=learning_rate)\n",
    "    loss_curve = []\n",
    "\n",
    "    for iter in range(c_epoch):\n",
    "        Xperm = np.random.permutation(X.shape[0])\n",
    "        loss_acc = 0\n",
    "        nbatches = X.shape[0]//batch_size\n",
    "        for b in range(nbatches):\n",
    "            batch_idxs = Xperm[b*batch_size:(b+1)*batch_size]\n",
    "            x = Variable(torch.Tensor(X[batch_idxs]))\n",
    "            y = Variable(torch.from_numpy(Y[batch_idxs]).long())\n",
    "            print(x)\n",
    "            y_pred = net(x)\n",
    "            print(y_pred)\n",
    "            break\n",
    "        break\n",
    "#             loss = loss_fn(y_pred, y)\n",
    "#             loss_acc += loss.data[0]\n",
    "#             optimizer.zero_grad()        \n",
    "#             loss.backward()\n",
    "#             optimizer.step()    \n",
    "#         avg_epoch_loss = loss_acc / (nbatches)\n",
    "#         print('Do epoch %s with loss %s' % (iter, avg_epoch_loss ))\n",
    "#         loss_curve.append(avg_epoch_loss)\n",
    "    \n",
    "    return loss_curve\n",
    "#plt.plot(loss_curve)"
   ]
  },
  {
   "cell_type": "markdown",
   "metadata": {},
   "source": [
    "### Обучаем модель без параметров"
   ]
  },
  {
   "cell_type": "code",
   "execution_count": 9,
   "metadata": {},
   "outputs": [
    {
     "name": "stdout",
     "output_type": "stream",
     "text": [
      "Variable containing:\n",
      "(0 ,0 ,.,.) = \n",
      "    0    0    0  ...     0    0    0\n",
      "    0    0    0  ...     0    0    0\n",
      "    0    0    0  ...     0    0    0\n",
      "      ...         ⋱        ...      \n",
      "    0    0    0  ...     0    0    0\n",
      "    0    0    0  ...     0    0    0\n",
      "    0    0    0  ...     0    0    0\n",
      "     ⋮ \n",
      "\n",
      "(1 ,0 ,.,.) = \n",
      "    0    0    0  ...     0    0    0\n",
      "    0    0    0  ...     0    0    0\n",
      "    0    0    0  ...     0    0    0\n",
      "      ...         ⋱        ...      \n",
      "    0    0    0  ...     0    0    0\n",
      "    0    0    0  ...     0    0    0\n",
      "    0    0    0  ...     0    0    0\n",
      "     ⋮ \n",
      "\n",
      "(2 ,0 ,.,.) = \n",
      "    0    0    0  ...     0    0    0\n",
      "    0    0    0  ...     0    0    0\n",
      "    0    0    0  ...     0    0    0\n",
      "      ...         ⋱        ...      \n",
      "    0    0    0  ...     0    0    0\n",
      "    0    0    0  ...     0    0    0\n",
      "    0    0    0  ...     0    0    0\n",
      "...   \n",
      "     ⋮ \n",
      "\n",
      "(27,0 ,.,.) = \n",
      "    0    0    0  ...     0    0    0\n",
      "    0    0    0  ...     0    0    0\n",
      "    0    0    0  ...     0    0    0\n",
      "      ...         ⋱        ...      \n",
      "    0    0    0  ...     0    0    0\n",
      "    0    0    0  ...     0    0    0\n",
      "    0    0    0  ...     0    0    0\n",
      "     ⋮ \n",
      "\n",
      "(28,0 ,.,.) = \n",
      "    0    0    0  ...     0    0    0\n",
      "    0    0    0  ...     0    0    0\n",
      "    0    0    0  ...     0    0    0\n",
      "      ...         ⋱        ...      \n",
      "    0    0    0  ...     0    0    0\n",
      "    0    0    0  ...     0    0    0\n",
      "    0    0    0  ...     0    0    0\n",
      "     ⋮ \n",
      "\n",
      "(29,0 ,.,.) = \n",
      "    0    0    0  ...     0    0    0\n",
      "    0    0    0  ...     0    0    0\n",
      "    0    0    0  ...     0    0    0\n",
      "      ...         ⋱        ...      \n",
      "    0    0    0  ...     0    0    0\n",
      "    0    0    0  ...     0    0    0\n",
      "    0    0    0  ...     0    0    0\n",
      "[torch.FloatTensor of size 30x1x28x28]\n",
      "\n",
      "Variable containing:\n",
      " 0.0182  0.0000  0.0002  0.0000  0.0000  0.2006  0.1707  0.0000  0.0000  0.1399\n",
      " 0.0000  0.0000  0.0052  0.0053  0.0000  0.1857  0.1961  0.0000  0.0000  0.0959\n",
      " 0.0116  0.0000  0.0547  0.0000  0.0229  0.1852  0.1273  0.0000  0.0000  0.1385\n",
      " 0.0000  0.0351  0.0315  0.0511  0.0000  0.1887  0.1586  0.0000  0.0000  0.1674\n",
      " 0.0209  0.0000  0.0322  0.0000  0.0000  0.2097  0.1198  0.0000  0.0000  0.1437\n",
      " 0.0000  0.0000  0.0545  0.0000  0.0000  0.2567  0.1021  0.0000  0.0000  0.1933\n",
      " 0.0000  0.0000  0.0275  0.0000  0.0000  0.1869  0.1642  0.0000  0.0000  0.1569\n",
      " 0.0000  0.0000  0.0704  0.0000  0.0000  0.2223  0.1578  0.0000  0.0000  0.1891\n",
      " 0.0000  0.0000  0.0293  0.0000  0.0000  0.2143  0.1446  0.0000  0.0000  0.1443\n",
      " 0.0000  0.0000  0.0000  0.0000  0.0097  0.2627  0.1359  0.0000  0.0000  0.1258\n",
      " 0.0000  0.0000  0.0296  0.0000  0.0000  0.2373  0.1396  0.0000  0.0000  0.1377\n",
      " 0.0000  0.0000  0.0236  0.0000  0.0000  0.2135  0.2432  0.0000  0.0000  0.1272\n",
      " 0.0056  0.0000  0.0446  0.0000  0.0000  0.1893  0.1123  0.0000  0.0000  0.1741\n",
      " 0.0000  0.0249  0.0498  0.0103  0.0000  0.2119  0.1258  0.0000  0.0000  0.1991\n",
      " 0.0000  0.0000  0.0000  0.0000  0.0000  0.1600  0.1733  0.0000  0.0000  0.1222\n",
      " 0.0128  0.0000  0.0111  0.0016  0.0206  0.2557  0.1477  0.0000  0.0000  0.1601\n",
      " 0.0000  0.0148  0.0544  0.0043  0.0000  0.1419  0.1892  0.0000  0.0000  0.1378\n",
      " 0.0000  0.0000  0.0888  0.0000  0.0000  0.3118  0.1727  0.0000  0.0000  0.2290\n",
      " 0.0000  0.0000  0.0177  0.0000  0.0398  0.2187  0.2235  0.0000  0.0000  0.1012\n",
      " 0.0000  0.0000  0.0630  0.0068  0.0000  0.2250  0.1788  0.0000  0.0000  0.1903\n",
      " 0.0000  0.0039  0.0000  0.0419  0.0000  0.2090  0.1208  0.0000  0.0000  0.2030\n",
      " 0.0000  0.0000  0.0409  0.0162  0.0000  0.2302  0.1746  0.0000  0.0000  0.1508\n",
      " 0.0000  0.0082  0.0000  0.0223  0.0217  0.1532  0.2164  0.0000  0.0000  0.1499\n",
      " 0.0000  0.0000  0.0443  0.0000  0.0000  0.1983  0.1435  0.0000  0.0000  0.1630\n",
      " 0.0346  0.0000  0.0364  0.0062  0.0000  0.2170  0.1639  0.0000  0.0000  0.1946\n",
      " 0.0000  0.0000  0.0407  0.0099  0.0000  0.1883  0.2294  0.0000  0.0000  0.1217\n",
      " 0.0000  0.0000  0.0744  0.0000  0.0000  0.2084  0.1275  0.0000  0.0000  0.1342\n",
      " 0.0000  0.0000  0.0310  0.0000  0.0000  0.1833  0.1578  0.0000  0.0000  0.1806\n",
      " 0.0000  0.0000  0.0599  0.0716  0.0000  0.2348  0.1430  0.0000  0.0000  0.1657\n",
      " 0.0000  0.0000  0.0911  0.0000  0.0058  0.1851  0.1901  0.0000  0.0000  0.2211\n",
      "[torch.FloatTensor of size 30x10]\n",
      "\n"
     ]
    }
   ],
   "source": [
    "loss_curve_simple = fit_net(10, net)"
   ]
  },
  {
   "cell_type": "markdown",
   "metadata": {},
   "source": [
    "## Обучаем модель с dropout"
   ]
  },
  {
   "cell_type": "code",
   "execution_count": 58,
   "metadata": {},
   "outputs": [
    {
     "name": "stdout",
     "output_type": "stream",
     "text": [
      "Net (\n",
      "  (net): Sequential (\n",
      "    (0): BatchNorm2d(1, eps=1e-05, momentum=0.1, affine=True)\n",
      "    (conv_1): Conv2d(1, 8, kernel_size=(5, 5), stride=(1, 1))\n",
      "    (do_1): Dropout (p = 0.5)\n",
      "    (relu_1): ReLU ()\n",
      "    (pool_1): Conv2d(8, 8, kernel_size=(2, 2), stride=(2, 2))\n",
      "    (conv_2): Conv2d(8, 16, kernel_size=(5, 5), stride=(1, 1))\n",
      "    (do_2): Dropout (p = 0.5)\n",
      "    (relu_2): ReLU ()\n",
      "    (pool_2): MaxPool2d (size=(2, 2), stride=(2, 2), dilation=(1, 1))\n",
      "  )\n",
      "  (fc1): Linear (256 -> 10)\n",
      ")\n"
     ]
    }
   ],
   "source": [
    "net_do = Net(dropout=True)\n",
    "print ( net_do )"
   ]
  },
  {
   "cell_type": "code",
   "execution_count": 63,
   "metadata": {},
   "outputs": [
    {
     "name": "stdout",
     "output_type": "stream",
     "text": [
      "Do epoch 0 with loss 1.224458001978756\n",
      "Do epoch 1 with loss 0.9186339127470687\n",
      "Do epoch 2 with loss 0.8591561818513755\n",
      "Do epoch 3 with loss 0.6419267333066749\n",
      "Do epoch 4 with loss 0.6049533740030917\n",
      "Do epoch 5 with loss 0.5832699653203529\n",
      "Do epoch 6 with loss 0.5678123317417787\n",
      "Do epoch 7 with loss 0.5597348024073048\n",
      "Do epoch 8 with loss 0.5516912672114612\n",
      "Do epoch 9 with loss 0.5466079441419345\n"
     ]
    }
   ],
   "source": [
    "loss_curve_dropout = fit_net(10, net_do)"
   ]
  },
  {
   "cell_type": "markdown",
   "metadata": {},
   "source": [
    "## Обучаем модель с batch normalization"
   ]
  },
  {
   "cell_type": "code",
   "execution_count": 66,
   "metadata": {},
   "outputs": [
    {
     "name": "stdout",
     "output_type": "stream",
     "text": [
      "Net (\n",
      "  (net): Sequential (\n",
      "    (0): BatchNorm2d(1, eps=1e-05, momentum=0.1, affine=True)\n",
      "    (conv_1): Conv2d(1, 8, kernel_size=(5, 5), stride=(1, 1))\n",
      "    (bn_1): BatchNorm2d(8, eps=1e-05, momentum=0.1, affine=True)\n",
      "    (relu_1): ReLU ()\n",
      "    (pool_1): Conv2d(8, 8, kernel_size=(2, 2), stride=(2, 2))\n",
      "    (conv_2): Conv2d(8, 16, kernel_size=(5, 5), stride=(1, 1))\n",
      "    (bn_2): BatchNorm2d(16, eps=1e-05, momentum=0.1, affine=True)\n",
      "    (relu_2): ReLU ()\n",
      "    (pool_2): MaxPool2d (size=(2, 2), stride=(2, 2), dilation=(1, 1))\n",
      "  )\n",
      "  (fc1): Linear (256 -> 10)\n",
      ")\n",
      "Do epoch 0 with loss 0.7741872026424167\n",
      "Do epoch 1 with loss 0.18013559527171435\n",
      "Do epoch 2 with loss 0.11405660841730574\n",
      "Do epoch 3 with loss 0.08779337604227166\n",
      "Do epoch 4 with loss 0.0734162602311761\n",
      "Do epoch 5 with loss 0.06460864437034253\n",
      "Do epoch 6 with loss 0.058131778781642385\n",
      "Do epoch 7 with loss 0.052859467764529156\n",
      "Do epoch 8 with loss 0.0491664662810088\n",
      "Do epoch 9 with loss 0.04569542729875621\n"
     ]
    }
   ],
   "source": [
    "net_bn = Net(batchnorm=True)\n",
    "print ( net_bn )\n",
    "loss_curve_bn = fit_net(10, net_bn)"
   ]
  },
  {
   "cell_type": "markdown",
   "metadata": {
    "collapsed": true
   },
   "source": [
    " ## Кривые обучения"
   ]
  },
  {
   "cell_type": "code",
   "execution_count": 94,
   "metadata": {},
   "outputs": [
    {
     "data": {
      "text/plain": [
       "<matplotlib.legend.Legend at 0x20886a57a58>"
      ]
     },
     "execution_count": 94,
     "metadata": {},
     "output_type": "execute_result"
    },
    {
     "data": {
      "image/png": "[encoded data removed]",
      "text/plain": [
       "<matplotlib.figure.Figure at 0x208828126a0>"
      ]
     },
     "metadata": {},
     "output_type": "display_data"
    }
   ],
   "source": [
    "ax = plt.subplot(1,1,1)\n",
    "ax.plot(loss_curve_simple,label=\"Simple\")\n",
    "ax.plot(loss_curve_dropout,label=\"Dropout\")\n",
    "ax.plot(loss_curve_bn, label='BatchNorm' )\n",
    "ax.legend()"
   ]
  },
  {
   "cell_type": "markdown",
   "metadata": {},
   "source": [
    "# Home Work 1\n",
    "1. Реализовать свертку и выполнить задание с котом. Нужно прислать IPython notebook с выполенным заданием.\n",
    "2. Конкурс на kagle, выбить скор выше базового\n",
    "\n",
    "P.S. - решение первой части буду смотреть только у тех, кто преодолевает базовый скор"
   ]
  },
  {
   "cell_type": "markdown",
   "metadata": {},
   "source": [
    "## CIFAR-10\n",
    "<img src=\"./imgs/40.png\" width=600 >\n",
    "\n",
    "https://www.cs.toronto.edu/~kriz/cifar.html\n",
    "- 32х32 цветные картинки\n",
    "- 10 не пересекающихся классов\n",
    "- 50к train + 10k test (сбалансированно по классам)\n"
   ]
  },
  {
   "cell_type": "markdown",
   "metadata": {},
   "source": [
    "## Kaggle\n",
    "\n",
    "## TODO\n"
   ]
  },
  {
   "cell_type": "markdown",
   "metadata": {},
   "source": [
    "# Почитать\n",
    "\n",
    "- https://m2dsupsdlclass.github.io/lectures-labs/slides/03_conv_nets/index.html\n",
    "- http://pytorch.org/tutorials/index.html"
   ]
  },
  {
   "cell_type": "markdown",
   "metadata": {},
   "source": [
    "<img src=\"./imgs/50.jpg\" width=600 >\n"
   ]
  }
 ],
 "metadata": {
  "anaconda-cloud": {},
  "kernelspec": {
   "display_name": "Python 3",
   "language": "python",
   "name": "python3"
  },
  "language_info": {
   "codemirror_mode": {
    "name": "ipython",
    "version": 3
   },
   "file_extension": ".py",
   "mimetype": "text/x-python",
   "name": "python",
   "nbconvert_exporter": "python",
   "pygments_lexer": "ipython3",
   "version": "3.6.3"
  }
 },
 "nbformat": 4,
 "nbformat_minor": 2
}
